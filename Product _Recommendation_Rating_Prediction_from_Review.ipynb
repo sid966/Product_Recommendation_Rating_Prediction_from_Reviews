{
 "cells": [
  {
   "cell_type": "markdown",
   "id": "363d261f",
   "metadata": {},
   "source": [
    "## Loading basic libraries"
   ]
  },
  {
   "cell_type": "code",
   "execution_count": 1,
   "id": "95922b39",
   "metadata": {},
   "outputs": [],
   "source": [
    "import numpy as np\n",
    "import pandas as pd\n",
    "import warnings\n",
    "warnings.filterwarnings(action=\"ignore\")"
   ]
  },
  {
   "cell_type": "markdown",
   "id": "44668cfe",
   "metadata": {},
   "source": [
    "## Loading Dataset"
   ]
  },
  {
   "cell_type": "code",
   "execution_count": 2,
   "id": "dc820c0f",
   "metadata": {},
   "outputs": [
    {
     "data": {
      "text/html": [
       "<div>\n",
       "<style scoped>\n",
       "    .dataframe tbody tr th:only-of-type {\n",
       "        vertical-align: middle;\n",
       "    }\n",
       "\n",
       "    .dataframe tbody tr th {\n",
       "        vertical-align: top;\n",
       "    }\n",
       "\n",
       "    .dataframe thead th {\n",
       "        text-align: right;\n",
       "    }\n",
       "</style>\n",
       "<table border=\"1\" class=\"dataframe\">\n",
       "  <thead>\n",
       "    <tr style=\"text-align: right;\">\n",
       "      <th></th>\n",
       "      <th>Unnamed: 0</th>\n",
       "      <th>Clothing ID</th>\n",
       "      <th>Age</th>\n",
       "      <th>Title</th>\n",
       "      <th>Review Text</th>\n",
       "      <th>Rating</th>\n",
       "      <th>Recommended IND</th>\n",
       "      <th>Positive Feedback Count</th>\n",
       "      <th>Division Name</th>\n",
       "      <th>Department Name</th>\n",
       "      <th>Class Name</th>\n",
       "    </tr>\n",
       "  </thead>\n",
       "  <tbody>\n",
       "    <tr>\n",
       "      <th>0</th>\n",
       "      <td>0</td>\n",
       "      <td>767</td>\n",
       "      <td>33</td>\n",
       "      <td>NaN</td>\n",
       "      <td>Absolutely wonderful - silky and sexy and comf...</td>\n",
       "      <td>4</td>\n",
       "      <td>1</td>\n",
       "      <td>0</td>\n",
       "      <td>Initmates</td>\n",
       "      <td>Intimate</td>\n",
       "      <td>Intimates</td>\n",
       "    </tr>\n",
       "    <tr>\n",
       "      <th>1</th>\n",
       "      <td>1</td>\n",
       "      <td>1080</td>\n",
       "      <td>34</td>\n",
       "      <td>NaN</td>\n",
       "      <td>Love this dress!  it's sooo pretty.  i happene...</td>\n",
       "      <td>5</td>\n",
       "      <td>1</td>\n",
       "      <td>4</td>\n",
       "      <td>General</td>\n",
       "      <td>Dresses</td>\n",
       "      <td>Dresses</td>\n",
       "    </tr>\n",
       "    <tr>\n",
       "      <th>2</th>\n",
       "      <td>2</td>\n",
       "      <td>1077</td>\n",
       "      <td>60</td>\n",
       "      <td>Some major design flaws</td>\n",
       "      <td>I had such high hopes for this dress and reall...</td>\n",
       "      <td>3</td>\n",
       "      <td>0</td>\n",
       "      <td>0</td>\n",
       "      <td>General</td>\n",
       "      <td>Dresses</td>\n",
       "      <td>Dresses</td>\n",
       "    </tr>\n",
       "    <tr>\n",
       "      <th>3</th>\n",
       "      <td>3</td>\n",
       "      <td>1049</td>\n",
       "      <td>50</td>\n",
       "      <td>My favorite buy!</td>\n",
       "      <td>I love, love, love this jumpsuit. it's fun, fl...</td>\n",
       "      <td>5</td>\n",
       "      <td>1</td>\n",
       "      <td>0</td>\n",
       "      <td>General Petite</td>\n",
       "      <td>Bottoms</td>\n",
       "      <td>Pants</td>\n",
       "    </tr>\n",
       "    <tr>\n",
       "      <th>4</th>\n",
       "      <td>4</td>\n",
       "      <td>847</td>\n",
       "      <td>47</td>\n",
       "      <td>Flattering shirt</td>\n",
       "      <td>This shirt is very flattering to all due to th...</td>\n",
       "      <td>5</td>\n",
       "      <td>1</td>\n",
       "      <td>6</td>\n",
       "      <td>General</td>\n",
       "      <td>Tops</td>\n",
       "      <td>Blouses</td>\n",
       "    </tr>\n",
       "  </tbody>\n",
       "</table>\n",
       "</div>"
      ],
      "text/plain": [
       "   Unnamed: 0  Clothing ID  Age                    Title  \\\n",
       "0           0          767   33                      NaN   \n",
       "1           1         1080   34                      NaN   \n",
       "2           2         1077   60  Some major design flaws   \n",
       "3           3         1049   50         My favorite buy!   \n",
       "4           4          847   47         Flattering shirt   \n",
       "\n",
       "                                         Review Text  Rating  Recommended IND  \\\n",
       "0  Absolutely wonderful - silky and sexy and comf...       4                1   \n",
       "1  Love this dress!  it's sooo pretty.  i happene...       5                1   \n",
       "2  I had such high hopes for this dress and reall...       3                0   \n",
       "3  I love, love, love this jumpsuit. it's fun, fl...       5                1   \n",
       "4  This shirt is very flattering to all due to th...       5                1   \n",
       "\n",
       "   Positive Feedback Count   Division Name Department Name Class Name  \n",
       "0                        0       Initmates        Intimate  Intimates  \n",
       "1                        4         General         Dresses    Dresses  \n",
       "2                        0         General         Dresses    Dresses  \n",
       "3                        0  General Petite         Bottoms      Pants  \n",
       "4                        6         General            Tops    Blouses  "
      ]
     },
     "execution_count": 2,
     "metadata": {},
     "output_type": "execute_result"
    }
   ],
   "source": [
    "data=pd.read_csv(\"Downloads/review.csv\")\n",
    "data.head()"
   ]
  },
  {
   "cell_type": "markdown",
   "id": "05a881af",
   "metadata": {},
   "source": [
    "## Data Pre-Processing\n",
    "    Merging all text reviews into one feature\n",
    "    Converting all 5 Star based rating into binary 0 and 1"
   ]
  },
  {
   "cell_type": "code",
   "execution_count": 3,
   "id": "eec29334",
   "metadata": {},
   "outputs": [
    {
     "data": {
      "text/html": [
       "<div>\n",
       "<style scoped>\n",
       "    .dataframe tbody tr th:only-of-type {\n",
       "        vertical-align: middle;\n",
       "    }\n",
       "\n",
       "    .dataframe tbody tr th {\n",
       "        vertical-align: top;\n",
       "    }\n",
       "\n",
       "    .dataframe thead th {\n",
       "        text-align: right;\n",
       "    }\n",
       "</style>\n",
       "<table border=\"1\" class=\"dataframe\">\n",
       "  <thead>\n",
       "    <tr style=\"text-align: right;\">\n",
       "      <th></th>\n",
       "      <th>Review</th>\n",
       "      <th>Rating</th>\n",
       "    </tr>\n",
       "  </thead>\n",
       "  <tbody>\n",
       "    <tr>\n",
       "      <th>0</th>\n",
       "      <td>Absolutely wonderful - silky and sexy and comf...</td>\n",
       "      <td>1</td>\n",
       "    </tr>\n",
       "    <tr>\n",
       "      <th>1</th>\n",
       "      <td>Love this dress!  it's sooo pretty.  i happene...</td>\n",
       "      <td>1</td>\n",
       "    </tr>\n",
       "    <tr>\n",
       "      <th>2</th>\n",
       "      <td>Some major design flawsI had such high hopes f...</td>\n",
       "      <td>0</td>\n",
       "    </tr>\n",
       "    <tr>\n",
       "      <th>3</th>\n",
       "      <td>My favorite buy!I love, love, love this jumpsu...</td>\n",
       "      <td>1</td>\n",
       "    </tr>\n",
       "    <tr>\n",
       "      <th>4</th>\n",
       "      <td>Flattering shirtThis shirt is very flattering ...</td>\n",
       "      <td>1</td>\n",
       "    </tr>\n",
       "  </tbody>\n",
       "</table>\n",
       "</div>"
      ],
      "text/plain": [
       "                                              Review  Rating\n",
       "0  Absolutely wonderful - silky and sexy and comf...       1\n",
       "1  Love this dress!  it's sooo pretty.  i happene...       1\n",
       "2  Some major design flawsI had such high hopes f...       0\n",
       "3  My favorite buy!I love, love, love this jumpsu...       1\n",
       "4  Flattering shirtThis shirt is very flattering ...       1"
      ]
     },
     "execution_count": 3,
     "metadata": {},
     "output_type": "execute_result"
    }
   ],
   "source": [
    "df=data.copy()\n",
    "df[\"Review\"]=(df[\"Title\"].map(str).replace(\"nan\",\"\")+df[\"Review Text\"].map(str)).apply(lambda row : row.strip())\n",
    "df[\"Rating\"]=[1 if rating>3 else 0 for rating in df[\"Rating\"]]\n",
    "df=df[[\"Review\",\"Rating\"]]\n",
    "df.head()"
   ]
  },
  {
   "cell_type": "markdown",
   "id": "4fc8a132",
   "metadata": {},
   "source": [
    "## Dropping the records without review"
   ]
  },
  {
   "cell_type": "code",
   "execution_count": 4,
   "id": "76dda683",
   "metadata": {},
   "outputs": [
    {
     "name": "stdout",
     "output_type": "stream",
     "text": [
      "<class 'pandas.core.frame.DataFrame'>\n",
      "Int64Index: 23486 entries, 0 to 23485\n",
      "Data columns (total 2 columns):\n",
      " #   Column  Non-Null Count  Dtype \n",
      "---  ------  --------------  ----- \n",
      " 0   Review  23486 non-null  object\n",
      " 1   Rating  23486 non-null  int64 \n",
      "dtypes: int64(1), object(1)\n",
      "memory usage: 550.5+ KB\n"
     ]
    }
   ],
   "source": [
    "df=df[df[\"Review\"]!=\"\"]\n",
    "df.info()"
   ]
  },
  {
   "cell_type": "markdown",
   "id": "987adb0f",
   "metadata": {},
   "source": [
    "## Checking class imbalance"
   ]
  },
  {
   "cell_type": "code",
   "execution_count": 5,
   "id": "1c50bf7c",
   "metadata": {},
   "outputs": [
    {
     "data": {
      "text/plain": [
       "1    18208\n",
       "0     5278\n",
       "Name: Rating, dtype: int64"
      ]
     },
     "execution_count": 5,
     "metadata": {},
     "output_type": "execute_result"
    }
   ],
   "source": [
    "df[\"Rating\"].value_counts()"
   ]
  },
  {
   "cell_type": "markdown",
   "id": "2cabefc9",
   "metadata": {},
   "source": [
    "## Separating train and test data"
   ]
  },
  {
   "cell_type": "code",
   "execution_count": 6,
   "id": "121c52bf",
   "metadata": {},
   "outputs": [
    {
     "data": {
      "text/plain": [
       "((17614,), (5872,))"
      ]
     },
     "execution_count": 6,
     "metadata": {},
     "output_type": "execute_result"
    }
   ],
   "source": [
    "from sklearn.model_selection import train_test_split\n",
    "x_train,x_test,y_train,y_test=train_test_split(df[\"Review\"],df[\"Rating\"],random_state=42)\n",
    "x_train.shape,x_test.shape"
   ]
  },
  {
   "cell_type": "markdown",
   "id": "a66cab46",
   "metadata": {},
   "source": [
    "## Checking class imbalance in x_train and x_test"
   ]
  },
  {
   "cell_type": "code",
   "execution_count": 7,
   "id": "d9d495dd",
   "metadata": {},
   "outputs": [
    {
     "data": {
      "text/plain": [
       "(Counter({1: 13703, 0: 3911}), Counter({1: 4505, 0: 1367}))"
      ]
     },
     "execution_count": 7,
     "metadata": {},
     "output_type": "execute_result"
    }
   ],
   "source": [
    "from collections import Counter\n",
    "Counter(y_train),Counter(y_test)"
   ]
  },
  {
   "cell_type": "markdown",
   "id": "3b64cc63",
   "metadata": {},
   "source": [
    "## CASE 1:Doing Classification using basic NLP count based features"
   ]
  },
  {
   "cell_type": "code",
   "execution_count": 8,
   "id": "e2c207c9",
   "metadata": {},
   "outputs": [],
   "source": [
    "import string\n",
    "\n",
    "X_train=pd.DataFrame(x_train,columns=[\"Review\"])\n",
    "X_test=pd.DataFrame(x_test,columns=[\"Review\"])\n",
    "\n",
    "#creating new features in x_train dataset\n",
    "\n",
    "X_train[\"char_count\"]=X_train[\"Review\"].apply(len)\n",
    "X_train[\"word_count\"]=X_train[\"Review\"].apply(lambda x:len(x.split()))\n",
    "X_train[\"word_density\"]=X_train[\"char_count\"]/(X_train[\"word_count\"]+1)\n",
    "X_train[\"punctuation_count\"]=X_train[\"Review\"].apply(lambda x: len(\"\".join(_ for _ in x if _ in string.punctuation)))\n",
    "X_train[\"title_word_count\"]=X_train['Review'].apply(lambda x: len([wrd for wrd in x.split() if wrd.istitle()]))\n",
    "X_train[\"upper_case_word_count\"]= X_train['Review'].apply(lambda x: len([wrd for wrd in x.split() if wrd.isupper()]))\n",
    "\n",
    "# creating the same new features in x_test dataset\n",
    "\n",
    "X_test['char_count'] = X_test['Review'].apply(len)\n",
    "X_test['word_count'] = X_test['Review'].apply(lambda x: len(x.split()))\n",
    "X_test['word_density'] = X_test['char_count'] / (X_test['word_count']+1)\n",
    "X_test['punctuation_count'] = X_test['Review'].apply(lambda x: len(\"\".join(_ for _ in x if _ in string.punctuation))) \n",
    "X_test['title_word_count'] = X_test['Review'].apply(lambda x: len([wrd for wrd in x.split() if wrd.istitle()]))\n",
    "X_test['upper_case_word_count'] = X_test['Review'].apply(lambda x: len([wrd for wrd in x.split() if wrd.isupper()]))"
   ]
  },
  {
   "cell_type": "markdown",
   "id": "fc28ce31",
   "metadata": {},
   "source": [
    "## Training a Logistic Regression model on this new set of features"
   ]
  },
  {
   "cell_type": "code",
   "execution_count": 9,
   "id": "0ff6eaa4",
   "metadata": {},
   "outputs": [],
   "source": [
    "from sklearn.linear_model import LogisticRegression\n",
    "model=LogisticRegression(random_state=42,solver='liblinear')"
   ]
  },
  {
   "cell_type": "code",
   "execution_count": 10,
   "id": "fb98972c",
   "metadata": {},
   "outputs": [],
   "source": [
    "model.fit(X_train.drop(columns=[\"Review\"]),y_train)\n",
    "y_pred=model.predict(X_test.drop(columns=[\"Review\"]))"
   ]
  },
  {
   "cell_type": "markdown",
   "id": "01b105f4",
   "metadata": {},
   "source": [
    "## Evaluating Model Performance"
   ]
  },
  {
   "cell_type": "code",
   "execution_count": 11,
   "id": "1ca4e2da",
   "metadata": {},
   "outputs": [
    {
     "name": "stdout",
     "output_type": "stream",
     "text": [
      "              precision    recall  f1-score   support\n",
      "\n",
      "           0       0.00      0.00      0.00      1367\n",
      "           1       0.77      1.00      0.87      4505\n",
      "\n",
      "    accuracy                           0.77      5872\n",
      "   macro avg       0.38      0.50      0.43      5872\n",
      "weighted avg       0.59      0.77      0.67      5872\n",
      "\n"
     ]
    },
    {
     "data": {
      "text/html": [
       "<div>\n",
       "<style scoped>\n",
       "    .dataframe tbody tr th:only-of-type {\n",
       "        vertical-align: middle;\n",
       "    }\n",
       "\n",
       "    .dataframe tbody tr th {\n",
       "        vertical-align: top;\n",
       "    }\n",
       "\n",
       "    .dataframe thead th {\n",
       "        text-align: right;\n",
       "    }\n",
       "</style>\n",
       "<table border=\"1\" class=\"dataframe\">\n",
       "  <thead>\n",
       "    <tr style=\"text-align: right;\">\n",
       "      <th></th>\n",
       "      <th>0</th>\n",
       "      <th>1</th>\n",
       "    </tr>\n",
       "  </thead>\n",
       "  <tbody>\n",
       "    <tr>\n",
       "      <th>0</th>\n",
       "      <td>0</td>\n",
       "      <td>1367</td>\n",
       "    </tr>\n",
       "    <tr>\n",
       "      <th>1</th>\n",
       "      <td>0</td>\n",
       "      <td>4505</td>\n",
       "    </tr>\n",
       "  </tbody>\n",
       "</table>\n",
       "</div>"
      ],
      "text/plain": [
       "   0     1\n",
       "0  0  1367\n",
       "1  0  4505"
      ]
     },
     "execution_count": 11,
     "metadata": {},
     "output_type": "execute_result"
    }
   ],
   "source": [
    "from sklearn.metrics import confusion_matrix,classification_report\n",
    "print(classification_report(y_test,y_pred))\n",
    "cm=confusion_matrix(y_test,y_pred)\n",
    "pd.DataFrame(cm,columns=[\"0\",\"1\"])"
   ]
  },
  {
   "cell_type": "code",
   "execution_count": 12,
   "id": "1bfb739e",
   "metadata": {},
   "outputs": [],
   "source": [
    "# not a good result as all are being classified as class 1 so we need some new features to learn.As currently our model\n",
    "# is not learning anything from features and is classifying every product as good"
   ]
  },
  {
   "cell_type": "markdown",
   "id": "401ed2c3",
   "metadata": {},
   "source": [
    "## CASE 2:Taking advantage of text sentiment to create some new features(sentiment analysis)"
   ]
  },
  {
   "cell_type": "code",
   "execution_count": 13,
   "id": "d40d848e",
   "metadata": {},
   "outputs": [],
   "source": [
    "import textblob\n",
    "\n",
    "#creating sentiment based features for X_train dataset\n",
    "\n",
    "x_train_snt_obj=X_train[\"Review\"].apply(lambda data:textblob.TextBlob(data).sentiment)\n",
    "X_train[\"Polarity\"]=[obj.polarity for obj in x_train_snt_obj.values]\n",
    "X_train[\"Subjectivity\"]=[obj.subjectivity for obj in x_train_snt_obj.values]\n",
    "\n",
    "#creating sentiment based features for X_test dataset\n",
    "\n",
    "x_test_snt_obj=X_test[\"Review\"].apply(lambda data:textblob.TextBlob(data).sentiment)\n",
    "X_test[\"Polarity\"]=[obj.polarity for obj in x_test_snt_obj.values]\n",
    "X_test[\"Subjectivity\"]=[obj.subjectivity for obj in x_test_snt_obj.values]"
   ]
  },
  {
   "cell_type": "markdown",
   "id": "bf08695e",
   "metadata": {},
   "source": [
    "## Training Model on these new set of features"
   ]
  },
  {
   "cell_type": "code",
   "execution_count": 14,
   "id": "86b1f48c",
   "metadata": {},
   "outputs": [],
   "source": [
    "model.fit(X_train.drop(columns=[\"Review\"]),y_train)\n",
    "y_pred=model.predict(X_test.drop(columns=[\"Review\"]))"
   ]
  },
  {
   "cell_type": "markdown",
   "id": "dd9ec49d",
   "metadata": {},
   "source": [
    "## Evaluating Model Performance"
   ]
  },
  {
   "cell_type": "code",
   "execution_count": 15,
   "id": "5ab6c8e5",
   "metadata": {},
   "outputs": [
    {
     "name": "stdout",
     "output_type": "stream",
     "text": [
      "              precision    recall  f1-score   support\n",
      "\n",
      "           0       0.68      0.20      0.31      1367\n",
      "           1       0.80      0.97      0.88      4505\n",
      "\n",
      "    accuracy                           0.79      5872\n",
      "   macro avg       0.74      0.59      0.60      5872\n",
      "weighted avg       0.77      0.79      0.75      5872\n",
      "\n"
     ]
    },
    {
     "data": {
      "text/html": [
       "<div>\n",
       "<style scoped>\n",
       "    .dataframe tbody tr th:only-of-type {\n",
       "        vertical-align: middle;\n",
       "    }\n",
       "\n",
       "    .dataframe tbody tr th {\n",
       "        vertical-align: top;\n",
       "    }\n",
       "\n",
       "    .dataframe thead th {\n",
       "        text-align: right;\n",
       "    }\n",
       "</style>\n",
       "<table border=\"1\" class=\"dataframe\">\n",
       "  <thead>\n",
       "    <tr style=\"text-align: right;\">\n",
       "      <th></th>\n",
       "      <th>0</th>\n",
       "      <th>1</th>\n",
       "    </tr>\n",
       "  </thead>\n",
       "  <tbody>\n",
       "    <tr>\n",
       "      <th>0</th>\n",
       "      <td>279</td>\n",
       "      <td>1088</td>\n",
       "    </tr>\n",
       "    <tr>\n",
       "      <th>1</th>\n",
       "      <td>133</td>\n",
       "      <td>4372</td>\n",
       "    </tr>\n",
       "  </tbody>\n",
       "</table>\n",
       "</div>"
      ],
      "text/plain": [
       "     0     1\n",
       "0  279  1088\n",
       "1  133  4372"
      ]
     },
     "execution_count": 15,
     "metadata": {},
     "output_type": "execute_result"
    }
   ],
   "source": [
    "print(classification_report(y_test,y_pred))\n",
    "cm=confusion_matrix(y_test,y_pred)\n",
    "pd.DataFrame(cm,columns=[\"0\",\"1\"])"
   ]
  },
  {
   "cell_type": "code",
   "execution_count": 16,
   "id": "7d27797d",
   "metadata": {},
   "outputs": [],
   "source": [
    "# Now we cam see that we are able to classify bad products with recall 20% and precision is also good at 68% for class 0\n",
    "#lets see if we can do more better or not"
   ]
  },
  {
   "cell_type": "markdown",
   "id": "7e0c25c4",
   "metadata": {},
   "source": [
    "## CASE 3:Using Bag of Words based features "
   ]
  },
  {
   "cell_type": "markdown",
   "id": "69974932",
   "metadata": {},
   "source": [
    "### Text Pre-Processing"
   ]
  },
  {
   "cell_type": "code",
   "execution_count": 17,
   "id": "cfda4b62",
   "metadata": {},
   "outputs": [],
   "source": [
    "import nltk\n",
    "import contractions\n",
    "import re\n",
    "\n",
    "# removing some stop words to capture negations in n-grams\n",
    "stop_words=nltk.corpus.stopwords.words(\"english\")\n",
    "stop_words.remove('no')\n",
    "stop_words.remove('not')\n",
    "stop_words.remove('but')"
   ]
  },
  {
   "cell_type": "code",
   "execution_count": 18,
   "id": "448e2d95",
   "metadata": {},
   "outputs": [],
   "source": [
    "ps=nltk.porter.PorterStemmer()\n",
    "\n",
    "#creating pre-processing function\n",
    "\n",
    "def pre_processor(text):\n",
    "    \n",
    "    # convert to lower case\n",
    "    text=str(text).lower()\n",
    "    # fixing contractions\n",
    "    text=contractions.fix(text)\n",
    "    # removing unnecessary characters\n",
    "    text=re.sub(r\"[^a-zA-Z]\",\" \",text)\n",
    "    text=re.sub(r\"nbsp\",\"\",text)\n",
    "    text=re.sub(\" +\",\" \",text)\n",
    "    # simple porter stemming\n",
    "    text=\" \".join([ps.stem(word) for word in text.split()])\n",
    "    # removing stop words\n",
    "    text=\" \".join([word for word in text.split() if word not in stop_words])\n",
    "    \n",
    "    return text\n",
    "processor=np.vectorize(pre_processor)   "
   ]
  },
  {
   "cell_type": "code",
   "execution_count": 19,
   "id": "190ef7ed",
   "metadata": {},
   "outputs": [],
   "source": [
    "X_train[\"clean_review\"]=processor(X_train[\"Review\"].values)\n",
    "X_test[\"clean_review\"]=processor(X_test[\"Review\"].values)"
   ]
  },
  {
   "cell_type": "code",
   "execution_count": 20,
   "id": "e2b81397",
   "metadata": {},
   "outputs": [
    {
     "data": {
      "text/html": [
       "<div>\n",
       "<style scoped>\n",
       "    .dataframe tbody tr th:only-of-type {\n",
       "        vertical-align: middle;\n",
       "    }\n",
       "\n",
       "    .dataframe tbody tr th {\n",
       "        vertical-align: top;\n",
       "    }\n",
       "\n",
       "    .dataframe thead th {\n",
       "        text-align: right;\n",
       "    }\n",
       "</style>\n",
       "<table border=\"1\" class=\"dataframe\">\n",
       "  <thead>\n",
       "    <tr style=\"text-align: right;\">\n",
       "      <th></th>\n",
       "      <th>Review</th>\n",
       "      <th>char_count</th>\n",
       "      <th>word_count</th>\n",
       "      <th>word_density</th>\n",
       "      <th>punctuation_count</th>\n",
       "      <th>title_word_count</th>\n",
       "      <th>upper_case_word_count</th>\n",
       "      <th>Polarity</th>\n",
       "      <th>Subjectivity</th>\n",
       "      <th>clean_review</th>\n",
       "    </tr>\n",
       "  </thead>\n",
       "  <tbody>\n",
       "    <tr>\n",
       "      <th>22348</th>\n",
       "      <td>Perfect fitI am not a one-piece body type. thi...</td>\n",
       "      <td>264</td>\n",
       "      <td>50</td>\n",
       "      <td>5.176471</td>\n",
       "      <td>11</td>\n",
       "      <td>1</td>\n",
       "      <td>0</td>\n",
       "      <td>0.598661</td>\n",
       "      <td>0.467946</td>\n",
       "      <td>perfect fiti not one piec bodi type thi best b...</td>\n",
       "    </tr>\n",
       "    <tr>\n",
       "      <th>19754</th>\n",
       "      <td>Well qualityThis dress is made well. love the ...</td>\n",
       "      <td>180</td>\n",
       "      <td>35</td>\n",
       "      <td>5.000000</td>\n",
       "      <td>4</td>\n",
       "      <td>1</td>\n",
       "      <td>0</td>\n",
       "      <td>0.140000</td>\n",
       "      <td>0.320000</td>\n",
       "      <td>well qualitythi dress made well love design co...</td>\n",
       "    </tr>\n",
       "    <tr>\n",
       "      <th>7628</th>\n",
       "      <td>Soft and flattering!This is a very flattering ...</td>\n",
       "      <td>520</td>\n",
       "      <td>104</td>\n",
       "      <td>4.952381</td>\n",
       "      <td>13</td>\n",
       "      <td>1</td>\n",
       "      <td>0</td>\n",
       "      <td>0.223873</td>\n",
       "      <td>0.485579</td>\n",
       "      <td>soft flatter thi veri flatter blous but note h...</td>\n",
       "    </tr>\n",
       "    <tr>\n",
       "      <th>10873</th>\n",
       "      <td>My new favoriteI love everything about this dr...</td>\n",
       "      <td>376</td>\n",
       "      <td>76</td>\n",
       "      <td>4.883117</td>\n",
       "      <td>7</td>\n",
       "      <td>1</td>\n",
       "      <td>0</td>\n",
       "      <td>0.446645</td>\n",
       "      <td>0.584986</td>\n",
       "      <td>new favoritei love everyth thi dress beauti vi...</td>\n",
       "    </tr>\n",
       "    <tr>\n",
       "      <th>11519</th>\n",
       "      <td>Doesn't look the same as pictureI was so excit...</td>\n",
       "      <td>532</td>\n",
       "      <td>105</td>\n",
       "      <td>5.018868</td>\n",
       "      <td>9</td>\n",
       "      <td>0</td>\n",
       "      <td>0</td>\n",
       "      <td>0.210417</td>\n",
       "      <td>0.497917</td>\n",
       "      <td>doe not look picturei wa excit thi coat saw ca...</td>\n",
       "    </tr>\n",
       "  </tbody>\n",
       "</table>\n",
       "</div>"
      ],
      "text/plain": [
       "                                                  Review  char_count  \\\n",
       "22348  Perfect fitI am not a one-piece body type. thi...         264   \n",
       "19754  Well qualityThis dress is made well. love the ...         180   \n",
       "7628   Soft and flattering!This is a very flattering ...         520   \n",
       "10873  My new favoriteI love everything about this dr...         376   \n",
       "11519  Doesn't look the same as pictureI was so excit...         532   \n",
       "\n",
       "       word_count  word_density  punctuation_count  title_word_count  \\\n",
       "22348          50      5.176471                 11                 1   \n",
       "19754          35      5.000000                  4                 1   \n",
       "7628          104      4.952381                 13                 1   \n",
       "10873          76      4.883117                  7                 1   \n",
       "11519         105      5.018868                  9                 0   \n",
       "\n",
       "       upper_case_word_count  Polarity  Subjectivity  \\\n",
       "22348                      0  0.598661      0.467946   \n",
       "19754                      0  0.140000      0.320000   \n",
       "7628                       0  0.223873      0.485579   \n",
       "10873                      0  0.446645      0.584986   \n",
       "11519                      0  0.210417      0.497917   \n",
       "\n",
       "                                            clean_review  \n",
       "22348  perfect fiti not one piec bodi type thi best b...  \n",
       "19754  well qualitythi dress made well love design co...  \n",
       "7628   soft flatter thi veri flatter blous but note h...  \n",
       "10873  new favoritei love everyth thi dress beauti vi...  \n",
       "11519  doe not look picturei wa excit thi coat saw ca...  "
      ]
     },
     "execution_count": 20,
     "metadata": {},
     "output_type": "execute_result"
    }
   ],
   "source": [
    "X_train.head()"
   ]
  },
  {
   "cell_type": "markdown",
   "id": "d5c6e1f7",
   "metadata": {},
   "source": [
    "### Separating structured features"
   ]
  },
  {
   "cell_type": "code",
   "execution_count": 21,
   "id": "c47c916e",
   "metadata": {},
   "outputs": [
    {
     "data": {
      "text/html": [
       "<div>\n",
       "<style scoped>\n",
       "    .dataframe tbody tr th:only-of-type {\n",
       "        vertical-align: middle;\n",
       "    }\n",
       "\n",
       "    .dataframe tbody tr th {\n",
       "        vertical-align: top;\n",
       "    }\n",
       "\n",
       "    .dataframe thead th {\n",
       "        text-align: right;\n",
       "    }\n",
       "</style>\n",
       "<table border=\"1\" class=\"dataframe\">\n",
       "  <thead>\n",
       "    <tr style=\"text-align: right;\">\n",
       "      <th></th>\n",
       "      <th>char_count</th>\n",
       "      <th>word_count</th>\n",
       "      <th>word_density</th>\n",
       "      <th>punctuation_count</th>\n",
       "      <th>title_word_count</th>\n",
       "      <th>upper_case_word_count</th>\n",
       "      <th>Polarity</th>\n",
       "      <th>Subjectivity</th>\n",
       "    </tr>\n",
       "  </thead>\n",
       "  <tbody>\n",
       "    <tr>\n",
       "      <th>0</th>\n",
       "      <td>264</td>\n",
       "      <td>50</td>\n",
       "      <td>5.176471</td>\n",
       "      <td>11</td>\n",
       "      <td>1</td>\n",
       "      <td>0</td>\n",
       "      <td>0.598661</td>\n",
       "      <td>0.467946</td>\n",
       "    </tr>\n",
       "    <tr>\n",
       "      <th>1</th>\n",
       "      <td>180</td>\n",
       "      <td>35</td>\n",
       "      <td>5.000000</td>\n",
       "      <td>4</td>\n",
       "      <td>1</td>\n",
       "      <td>0</td>\n",
       "      <td>0.140000</td>\n",
       "      <td>0.320000</td>\n",
       "    </tr>\n",
       "    <tr>\n",
       "      <th>2</th>\n",
       "      <td>520</td>\n",
       "      <td>104</td>\n",
       "      <td>4.952381</td>\n",
       "      <td>13</td>\n",
       "      <td>1</td>\n",
       "      <td>0</td>\n",
       "      <td>0.223873</td>\n",
       "      <td>0.485579</td>\n",
       "    </tr>\n",
       "    <tr>\n",
       "      <th>3</th>\n",
       "      <td>376</td>\n",
       "      <td>76</td>\n",
       "      <td>4.883117</td>\n",
       "      <td>7</td>\n",
       "      <td>1</td>\n",
       "      <td>0</td>\n",
       "      <td>0.446645</td>\n",
       "      <td>0.584986</td>\n",
       "    </tr>\n",
       "    <tr>\n",
       "      <th>4</th>\n",
       "      <td>532</td>\n",
       "      <td>105</td>\n",
       "      <td>5.018868</td>\n",
       "      <td>9</td>\n",
       "      <td>0</td>\n",
       "      <td>0</td>\n",
       "      <td>0.210417</td>\n",
       "      <td>0.497917</td>\n",
       "    </tr>\n",
       "  </tbody>\n",
       "</table>\n",
       "</div>"
      ],
      "text/plain": [
       "   char_count  word_count  word_density  punctuation_count  title_word_count  \\\n",
       "0         264          50      5.176471                 11                 1   \n",
       "1         180          35      5.000000                  4                 1   \n",
       "2         520         104      4.952381                 13                 1   \n",
       "3         376          76      4.883117                  7                 1   \n",
       "4         532         105      5.018868                  9                 0   \n",
       "\n",
       "   upper_case_word_count  Polarity  Subjectivity  \n",
       "0                      0  0.598661      0.467946  \n",
       "1                      0  0.140000      0.320000  \n",
       "2                      0  0.223873      0.485579  \n",
       "3                      0  0.446645      0.584986  \n",
       "4                      0  0.210417      0.497917  "
      ]
     },
     "execution_count": 21,
     "metadata": {},
     "output_type": "execute_result"
    }
   ],
   "source": [
    "X_train_metadata=X_train.drop(columns=[\"Review\",\"clean_review\"]).reset_index(drop=True)\n",
    "X_test_metadata=X_test.drop(columns=[\"Review\",\"clean_review\"]).reset_index(drop=True)\n",
    "X_train_metadata.head()"
   ]
  },
  {
   "cell_type": "markdown",
   "id": "44fab9e5",
   "metadata": {},
   "source": [
    "### Creating BOW based features:1-grams"
   ]
  },
  {
   "cell_type": "code",
   "execution_count": 22,
   "id": "930ec4c8",
   "metadata": {},
   "outputs": [],
   "source": [
    "from sklearn.feature_extraction.text import CountVectorizer\n",
    "cv=CountVectorizer(min_df=0.0,max_df=1.0,ngram_range=(1,1))"
   ]
  },
  {
   "cell_type": "code",
   "execution_count": 23,
   "id": "60062ce5",
   "metadata": {},
   "outputs": [],
   "source": [
    "x_train_cv=cv.fit_transform(X_train[\"clean_review\"]).toarray()\n",
    "x_traincv=pd.DataFrame(x_train_cv,columns=cv.get_feature_names())"
   ]
  },
  {
   "cell_type": "code",
   "execution_count": 24,
   "id": "496f1473",
   "metadata": {},
   "outputs": [],
   "source": [
    "x_testcv = cv.transform(X_test['clean_review']).toarray()\n",
    "x_testcv = pd.DataFrame(x_testcv, columns=cv.get_feature_names())"
   ]
  },
  {
   "cell_type": "code",
   "execution_count": 25,
   "id": "6db309e4",
   "metadata": {},
   "outputs": [
    {
     "data": {
      "text/html": [
       "<div>\n",
       "<style scoped>\n",
       "    .dataframe tbody tr th:only-of-type {\n",
       "        vertical-align: middle;\n",
       "    }\n",
       "\n",
       "    .dataframe tbody tr th {\n",
       "        vertical-align: top;\n",
       "    }\n",
       "\n",
       "    .dataframe thead th {\n",
       "        text-align: right;\n",
       "    }\n",
       "</style>\n",
       "<table border=\"1\" class=\"dataframe\">\n",
       "  <thead>\n",
       "    <tr style=\"text-align: right;\">\n",
       "      <th></th>\n",
       "      <th>aa</th>\n",
       "      <th>aaaaandidon</th>\n",
       "      <th>aaaaannnnnnd</th>\n",
       "      <th>aam</th>\n",
       "      <th>ab</th>\n",
       "      <th>abbey</th>\n",
       "      <th>abbi</th>\n",
       "      <th>abdomen</th>\n",
       "      <th>abercrombi</th>\n",
       "      <th>abhor</th>\n",
       "      <th>...</th>\n",
       "      <th>zippersi</th>\n",
       "      <th>zipperso</th>\n",
       "      <th>zipperthi</th>\n",
       "      <th>zippi</th>\n",
       "      <th>zoe</th>\n",
       "      <th>zombi</th>\n",
       "      <th>zone</th>\n",
       "      <th>zooland</th>\n",
       "      <th>zoom</th>\n",
       "      <th>zuma</th>\n",
       "    </tr>\n",
       "  </thead>\n",
       "  <tbody>\n",
       "    <tr>\n",
       "      <th>0</th>\n",
       "      <td>0</td>\n",
       "      <td>0</td>\n",
       "      <td>0</td>\n",
       "      <td>0</td>\n",
       "      <td>0</td>\n",
       "      <td>0</td>\n",
       "      <td>0</td>\n",
       "      <td>0</td>\n",
       "      <td>0</td>\n",
       "      <td>0</td>\n",
       "      <td>...</td>\n",
       "      <td>0</td>\n",
       "      <td>0</td>\n",
       "      <td>0</td>\n",
       "      <td>0</td>\n",
       "      <td>0</td>\n",
       "      <td>0</td>\n",
       "      <td>0</td>\n",
       "      <td>0</td>\n",
       "      <td>0</td>\n",
       "      <td>0</td>\n",
       "    </tr>\n",
       "    <tr>\n",
       "      <th>1</th>\n",
       "      <td>0</td>\n",
       "      <td>0</td>\n",
       "      <td>0</td>\n",
       "      <td>0</td>\n",
       "      <td>0</td>\n",
       "      <td>0</td>\n",
       "      <td>0</td>\n",
       "      <td>0</td>\n",
       "      <td>0</td>\n",
       "      <td>0</td>\n",
       "      <td>...</td>\n",
       "      <td>0</td>\n",
       "      <td>0</td>\n",
       "      <td>0</td>\n",
       "      <td>0</td>\n",
       "      <td>0</td>\n",
       "      <td>0</td>\n",
       "      <td>0</td>\n",
       "      <td>0</td>\n",
       "      <td>0</td>\n",
       "      <td>0</td>\n",
       "    </tr>\n",
       "    <tr>\n",
       "      <th>2</th>\n",
       "      <td>0</td>\n",
       "      <td>0</td>\n",
       "      <td>0</td>\n",
       "      <td>0</td>\n",
       "      <td>0</td>\n",
       "      <td>0</td>\n",
       "      <td>0</td>\n",
       "      <td>0</td>\n",
       "      <td>0</td>\n",
       "      <td>0</td>\n",
       "      <td>...</td>\n",
       "      <td>0</td>\n",
       "      <td>0</td>\n",
       "      <td>0</td>\n",
       "      <td>0</td>\n",
       "      <td>0</td>\n",
       "      <td>0</td>\n",
       "      <td>0</td>\n",
       "      <td>0</td>\n",
       "      <td>0</td>\n",
       "      <td>0</td>\n",
       "    </tr>\n",
       "    <tr>\n",
       "      <th>3</th>\n",
       "      <td>0</td>\n",
       "      <td>0</td>\n",
       "      <td>0</td>\n",
       "      <td>0</td>\n",
       "      <td>0</td>\n",
       "      <td>0</td>\n",
       "      <td>0</td>\n",
       "      <td>0</td>\n",
       "      <td>0</td>\n",
       "      <td>0</td>\n",
       "      <td>...</td>\n",
       "      <td>0</td>\n",
       "      <td>0</td>\n",
       "      <td>0</td>\n",
       "      <td>0</td>\n",
       "      <td>0</td>\n",
       "      <td>0</td>\n",
       "      <td>0</td>\n",
       "      <td>0</td>\n",
       "      <td>0</td>\n",
       "      <td>0</td>\n",
       "    </tr>\n",
       "    <tr>\n",
       "      <th>4</th>\n",
       "      <td>0</td>\n",
       "      <td>0</td>\n",
       "      <td>0</td>\n",
       "      <td>0</td>\n",
       "      <td>0</td>\n",
       "      <td>0</td>\n",
       "      <td>0</td>\n",
       "      <td>0</td>\n",
       "      <td>0</td>\n",
       "      <td>0</td>\n",
       "      <td>...</td>\n",
       "      <td>0</td>\n",
       "      <td>0</td>\n",
       "      <td>0</td>\n",
       "      <td>0</td>\n",
       "      <td>0</td>\n",
       "      <td>0</td>\n",
       "      <td>0</td>\n",
       "      <td>0</td>\n",
       "      <td>0</td>\n",
       "      <td>0</td>\n",
       "    </tr>\n",
       "  </tbody>\n",
       "</table>\n",
       "<p>5 rows × 12712 columns</p>\n",
       "</div>"
      ],
      "text/plain": [
       "   aa  aaaaandidon  aaaaannnnnnd  aam  ab  abbey  abbi  abdomen  abercrombi  \\\n",
       "0   0            0             0    0   0      0     0        0           0   \n",
       "1   0            0             0    0   0      0     0        0           0   \n",
       "2   0            0             0    0   0      0     0        0           0   \n",
       "3   0            0             0    0   0      0     0        0           0   \n",
       "4   0            0             0    0   0      0     0        0           0   \n",
       "\n",
       "   abhor  ...  zippersi  zipperso  zipperthi  zippi  zoe  zombi  zone  \\\n",
       "0      0  ...         0         0          0      0    0      0     0   \n",
       "1      0  ...         0         0          0      0    0      0     0   \n",
       "2      0  ...         0         0          0      0    0      0     0   \n",
       "3      0  ...         0         0          0      0    0      0     0   \n",
       "4      0  ...         0         0          0      0    0      0     0   \n",
       "\n",
       "   zooland  zoom  zuma  \n",
       "0        0     0     0  \n",
       "1        0     0     0  \n",
       "2        0     0     0  \n",
       "3        0     0     0  \n",
       "4        0     0     0  \n",
       "\n",
       "[5 rows x 12712 columns]"
      ]
     },
     "execution_count": 25,
     "metadata": {},
     "output_type": "execute_result"
    }
   ],
   "source": [
    "x_traincv.head()"
   ]
  },
  {
   "cell_type": "code",
   "execution_count": 26,
   "id": "e9f5cc5f",
   "metadata": {},
   "outputs": [],
   "source": [
    "x_train_comb=pd.concat([X_train_metadata,x_traincv],axis=1)\n",
    "x_test_comb=pd.concat([X_test_metadata,x_testcv],axis=1)"
   ]
  },
  {
   "cell_type": "code",
   "execution_count": 27,
   "id": "194dd9f2",
   "metadata": {},
   "outputs": [
    {
     "data": {
      "text/html": [
       "<div>\n",
       "<style scoped>\n",
       "    .dataframe tbody tr th:only-of-type {\n",
       "        vertical-align: middle;\n",
       "    }\n",
       "\n",
       "    .dataframe tbody tr th {\n",
       "        vertical-align: top;\n",
       "    }\n",
       "\n",
       "    .dataframe thead th {\n",
       "        text-align: right;\n",
       "    }\n",
       "</style>\n",
       "<table border=\"1\" class=\"dataframe\">\n",
       "  <thead>\n",
       "    <tr style=\"text-align: right;\">\n",
       "      <th></th>\n",
       "      <th>char_count</th>\n",
       "      <th>word_count</th>\n",
       "      <th>word_density</th>\n",
       "      <th>punctuation_count</th>\n",
       "      <th>title_word_count</th>\n",
       "      <th>upper_case_word_count</th>\n",
       "      <th>Polarity</th>\n",
       "      <th>Subjectivity</th>\n",
       "      <th>aa</th>\n",
       "      <th>aaaaandidon</th>\n",
       "      <th>...</th>\n",
       "      <th>zippersi</th>\n",
       "      <th>zipperso</th>\n",
       "      <th>zipperthi</th>\n",
       "      <th>zippi</th>\n",
       "      <th>zoe</th>\n",
       "      <th>zombi</th>\n",
       "      <th>zone</th>\n",
       "      <th>zooland</th>\n",
       "      <th>zoom</th>\n",
       "      <th>zuma</th>\n",
       "    </tr>\n",
       "  </thead>\n",
       "  <tbody>\n",
       "    <tr>\n",
       "      <th>0</th>\n",
       "      <td>511</td>\n",
       "      <td>97</td>\n",
       "      <td>5.214286</td>\n",
       "      <td>30</td>\n",
       "      <td>1</td>\n",
       "      <td>0</td>\n",
       "      <td>0.094196</td>\n",
       "      <td>0.419048</td>\n",
       "      <td>0</td>\n",
       "      <td>0</td>\n",
       "      <td>...</td>\n",
       "      <td>0</td>\n",
       "      <td>0</td>\n",
       "      <td>0</td>\n",
       "      <td>0</td>\n",
       "      <td>0</td>\n",
       "      <td>0</td>\n",
       "      <td>0</td>\n",
       "      <td>0</td>\n",
       "      <td>0</td>\n",
       "      <td>0</td>\n",
       "    </tr>\n",
       "    <tr>\n",
       "      <th>1</th>\n",
       "      <td>108</td>\n",
       "      <td>20</td>\n",
       "      <td>5.142857</td>\n",
       "      <td>1</td>\n",
       "      <td>1</td>\n",
       "      <td>0</td>\n",
       "      <td>0.343333</td>\n",
       "      <td>0.585000</td>\n",
       "      <td>0</td>\n",
       "      <td>0</td>\n",
       "      <td>...</td>\n",
       "      <td>0</td>\n",
       "      <td>0</td>\n",
       "      <td>0</td>\n",
       "      <td>0</td>\n",
       "      <td>0</td>\n",
       "      <td>0</td>\n",
       "      <td>0</td>\n",
       "      <td>0</td>\n",
       "      <td>0</td>\n",
       "      <td>0</td>\n",
       "    </tr>\n",
       "    <tr>\n",
       "      <th>2</th>\n",
       "      <td>81</td>\n",
       "      <td>14</td>\n",
       "      <td>5.400000</td>\n",
       "      <td>2</td>\n",
       "      <td>0</td>\n",
       "      <td>0</td>\n",
       "      <td>0.331250</td>\n",
       "      <td>0.525000</td>\n",
       "      <td>0</td>\n",
       "      <td>0</td>\n",
       "      <td>...</td>\n",
       "      <td>0</td>\n",
       "      <td>0</td>\n",
       "      <td>0</td>\n",
       "      <td>0</td>\n",
       "      <td>0</td>\n",
       "      <td>0</td>\n",
       "      <td>0</td>\n",
       "      <td>0</td>\n",
       "      <td>0</td>\n",
       "      <td>0</td>\n",
       "    </tr>\n",
       "    <tr>\n",
       "      <th>3</th>\n",
       "      <td>522</td>\n",
       "      <td>97</td>\n",
       "      <td>5.326531</td>\n",
       "      <td>15</td>\n",
       "      <td>1</td>\n",
       "      <td>0</td>\n",
       "      <td>-0.028030</td>\n",
       "      <td>0.490909</td>\n",
       "      <td>0</td>\n",
       "      <td>0</td>\n",
       "      <td>...</td>\n",
       "      <td>0</td>\n",
       "      <td>0</td>\n",
       "      <td>0</td>\n",
       "      <td>0</td>\n",
       "      <td>0</td>\n",
       "      <td>0</td>\n",
       "      <td>0</td>\n",
       "      <td>0</td>\n",
       "      <td>0</td>\n",
       "      <td>0</td>\n",
       "    </tr>\n",
       "    <tr>\n",
       "      <th>4</th>\n",
       "      <td>412</td>\n",
       "      <td>81</td>\n",
       "      <td>5.024390</td>\n",
       "      <td>17</td>\n",
       "      <td>1</td>\n",
       "      <td>0</td>\n",
       "      <td>0.275000</td>\n",
       "      <td>0.569379</td>\n",
       "      <td>0</td>\n",
       "      <td>0</td>\n",
       "      <td>...</td>\n",
       "      <td>0</td>\n",
       "      <td>0</td>\n",
       "      <td>0</td>\n",
       "      <td>0</td>\n",
       "      <td>0</td>\n",
       "      <td>0</td>\n",
       "      <td>0</td>\n",
       "      <td>0</td>\n",
       "      <td>0</td>\n",
       "      <td>0</td>\n",
       "    </tr>\n",
       "  </tbody>\n",
       "</table>\n",
       "<p>5 rows × 12720 columns</p>\n",
       "</div>"
      ],
      "text/plain": [
       "   char_count  word_count  word_density  punctuation_count  title_word_count  \\\n",
       "0         511          97      5.214286                 30                 1   \n",
       "1         108          20      5.142857                  1                 1   \n",
       "2          81          14      5.400000                  2                 0   \n",
       "3         522          97      5.326531                 15                 1   \n",
       "4         412          81      5.024390                 17                 1   \n",
       "\n",
       "   upper_case_word_count  Polarity  Subjectivity  aa  aaaaandidon  ...  \\\n",
       "0                      0  0.094196      0.419048   0            0  ...   \n",
       "1                      0  0.343333      0.585000   0            0  ...   \n",
       "2                      0  0.331250      0.525000   0            0  ...   \n",
       "3                      0 -0.028030      0.490909   0            0  ...   \n",
       "4                      0  0.275000      0.569379   0            0  ...   \n",
       "\n",
       "   zippersi  zipperso  zipperthi  zippi  zoe  zombi  zone  zooland  zoom  zuma  \n",
       "0         0         0          0      0    0      0     0        0     0     0  \n",
       "1         0         0          0      0    0      0     0        0     0     0  \n",
       "2         0         0          0      0    0      0     0        0     0     0  \n",
       "3         0         0          0      0    0      0     0        0     0     0  \n",
       "4         0         0          0      0    0      0     0        0     0     0  \n",
       "\n",
       "[5 rows x 12720 columns]"
      ]
     },
     "execution_count": 27,
     "metadata": {},
     "output_type": "execute_result"
    }
   ],
   "source": [
    "x_test_comb.head()"
   ]
  },
  {
   "cell_type": "markdown",
   "id": "247cedb7",
   "metadata": {},
   "source": [
    "## Training Model"
   ]
  },
  {
   "cell_type": "code",
   "execution_count": 28,
   "id": "55a19dd9",
   "metadata": {},
   "outputs": [],
   "source": [
    "model.fit(x_train_comb,y_train)\n",
    "y_pred=model.predict(x_test_comb)"
   ]
  },
  {
   "cell_type": "markdown",
   "id": "d68ee83d",
   "metadata": {},
   "source": [
    "## Evaluating Model Performance"
   ]
  },
  {
   "cell_type": "code",
   "execution_count": 29,
   "id": "2877baf6",
   "metadata": {},
   "outputs": [
    {
     "name": "stdout",
     "output_type": "stream",
     "text": [
      "              precision    recall  f1-score   support\n",
      "\n",
      "           0       0.78      0.67      0.72      1367\n",
      "           1       0.90      0.94      0.92      4505\n",
      "\n",
      "    accuracy                           0.88      5872\n",
      "   macro avg       0.84      0.81      0.82      5872\n",
      "weighted avg       0.87      0.88      0.88      5872\n",
      "\n"
     ]
    }
   ],
   "source": [
    "print(classification_report(y_test,y_pred))"
   ]
  },
  {
   "cell_type": "code",
   "execution_count": 30,
   "id": "51006cf6",
   "metadata": {},
   "outputs": [
    {
     "data": {
      "text/html": [
       "<div>\n",
       "<style scoped>\n",
       "    .dataframe tbody tr th:only-of-type {\n",
       "        vertical-align: middle;\n",
       "    }\n",
       "\n",
       "    .dataframe tbody tr th {\n",
       "        vertical-align: top;\n",
       "    }\n",
       "\n",
       "    .dataframe thead th {\n",
       "        text-align: right;\n",
       "    }\n",
       "</style>\n",
       "<table border=\"1\" class=\"dataframe\">\n",
       "  <thead>\n",
       "    <tr style=\"text-align: right;\">\n",
       "      <th></th>\n",
       "      <th>0</th>\n",
       "      <th>1</th>\n",
       "    </tr>\n",
       "  </thead>\n",
       "  <tbody>\n",
       "    <tr>\n",
       "      <th>0</th>\n",
       "      <td>919</td>\n",
       "      <td>448</td>\n",
       "    </tr>\n",
       "    <tr>\n",
       "      <th>1</th>\n",
       "      <td>263</td>\n",
       "      <td>4242</td>\n",
       "    </tr>\n",
       "  </tbody>\n",
       "</table>\n",
       "</div>"
      ],
      "text/plain": [
       "     0     1\n",
       "0  919   448\n",
       "1  263  4242"
      ]
     },
     "execution_count": 30,
     "metadata": {},
     "output_type": "execute_result"
    }
   ],
   "source": [
    "cm=confusion_matrix(y_test,y_pred)\n",
    "pd.DataFrame(cm,columns=[\"0\",\"1\"])"
   ]
  },
  {
   "cell_type": "code",
   "execution_count": 31,
   "id": "9e0ae410",
   "metadata": {},
   "outputs": [],
   "source": [
    "#Now we can see our model is doing better than before f1 score is 72% for bad reviews and 92% for good reviews and \n",
    "#overall its 88% which is quite good"
   ]
  }
 ],
 "metadata": {
  "kernelspec": {
   "display_name": "Python 3 (ipykernel)",
   "language": "python",
   "name": "python3"
  },
  "language_info": {
   "codemirror_mode": {
    "name": "ipython",
    "version": 3
   },
   "file_extension": ".py",
   "mimetype": "text/x-python",
   "name": "python",
   "nbconvert_exporter": "python",
   "pygments_lexer": "ipython3",
   "version": "3.9.13"
  }
 },
 "nbformat": 4,
 "nbformat_minor": 5
}
